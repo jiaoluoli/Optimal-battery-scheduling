{
 "cells": [
  {
   "cell_type": "code",
   "execution_count": 3,
   "id": "ada63bee",
   "metadata": {},
   "outputs": [],
   "source": [
    "import numpy as np\n",
    "import pandas as pd"
   ]
  },
  {
   "cell_type": "code",
   "execution_count": 4,
   "id": "c88aec61",
   "metadata": {},
   "outputs": [],
   "source": [
    "pv = pd.read_csv(\"../data/test_set4/pv_test_set4.csv\").iloc[:,2]\n",
    "demand = pd.read_csv(\"../data/test_set4/demand_test_set4.csv\").iloc[:,1]\n",
    "\n",
    "forecast_profile =  pd.read_csv(\"../data/profiles/storage_schedule_forecast_v1.csv\")\n",
    "\n",
    "# last_week_profile =  pd.read_csv(\"../data/profiles/storage_schedule_last_week.csv\")"
   ]
  },
  {
   "cell_type": "code",
   "execution_count": 5,
   "id": "d195e0a7",
   "metadata": {},
   "outputs": [],
   "source": [
    "def produce_score(pv, demand, profile):\n",
    "    # initial the B values from the profiles\n",
    "    B_d_k = profile[\"B\"].values.reshape(7,48)\n",
    "    \n",
    "    # the demand and the total pv generation come from the real next week data\n",
    "    L_d_k = demand.values.reshape(7,48)\n",
    "    Ptotal_d_k = pv.values.reshape(7,48)\n",
    "    \n",
    "    # The power charged into the battery is the minimal value of the profile B value and the real total pv generation value\n",
    "    P_d_k = np.zeros([7,31])\n",
    "    for d in range(7):\n",
    "        for k in range(31):\n",
    "            P_d_k[d,k] = min(B_d_k[d,k],Ptotal_d_k[d,k])\n",
    "    \n",
    "    # the score for each day\n",
    "    S_d = np.zeros(7)\n",
    "    for d in range(7):\n",
    "        # Pratio_d is the ratio of the power that is charged into battery, coming from the PV generation in a day\n",
    "        Pratio_d = sum(P_d_k[d,k] for k in range(31))/sum(B_d_k[d,k] for k in range(31))\n",
    "        \n",
    "        # the initial peak demand is the maximul demand in the evening time of a day\n",
    "        Peakold_d = max(L_d_k[d,k] for k in range(31,42))\n",
    "        # the current peak demand is the maximul of demand subtracting the power discharging from the battery  (B is negetive)in the evening time of a day\n",
    "        Peaknew_d = max(L_d_k[d,k]+B_d_k[d,k] for k in range(31,42))\n",
    "        # the ratio how much the peak demand reducing\n",
    "        RPeak_d = 100*(Peakold_d-Peaknew_d)/Peakold_d\n",
    "        \n",
    "        # the score for a day is the combine of the two ratio\n",
    "        S_d[d] = RPeak_d*(3*Pratio_d+1*(1-Pratio_d))\n",
    "    score = S_d.mean()   \n",
    "    return score"
   ]
  },
  {
   "cell_type": "code",
   "execution_count": 6,
   "id": "d5ac5439",
   "metadata": {
    "scrolled": false
   },
   "outputs": [
    {
     "data": {
      "text/plain": [
       "114.01535119130865"
      ]
     },
     "execution_count": 6,
     "metadata": {},
     "output_type": "execute_result"
    }
   ],
   "source": [
    "# using the forecast profile to get the score\n",
    "produce_score(pv, demand, forecast_profile)"
   ]
  },
  {
   "cell_type": "code",
   "execution_count": 5,
   "id": "45730469",
   "metadata": {
    "scrolled": true
   },
   "outputs": [
    {
     "data": {
      "text/plain": [
       "105.93314477950734"
      ]
     },
     "execution_count": 5,
     "metadata": {},
     "output_type": "execute_result"
    }
   ],
   "source": [
    "# using the last_week profile to get the score\n",
    "produce_score(pv, demand, last_week_profile)"
   ]
  }
 ],
 "metadata": {
  "kernelspec": {
   "display_name": "Python [conda env:dmepy3]",
   "language": "python",
   "name": "conda-env-dmepy3-py"
  },
  "language_info": {
   "codemirror_mode": {
    "name": "ipython",
    "version": 3
   },
   "file_extension": ".py",
   "mimetype": "text/x-python",
   "name": "python",
   "nbconvert_exporter": "python",
   "pygments_lexer": "ipython3",
   "version": "3.8.5"
  }
 },
 "nbformat": 4,
 "nbformat_minor": 5
}
