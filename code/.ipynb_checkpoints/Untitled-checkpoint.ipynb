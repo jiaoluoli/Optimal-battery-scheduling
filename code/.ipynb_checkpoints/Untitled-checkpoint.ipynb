{
 "cells": [
  {
   "cell_type": "code",
   "execution_count": 3,
   "id": "e8957465",
   "metadata": {},
   "outputs": [],
   "source": [
    "alphabet = \"ABCDEFGHIJKLMNOPQRSTUVWXYZ\"\n",
    "secretKey = \"nihao\".upper()"
   ]
  },
  {
   "cell_type": "code",
   "execution_count": 8,
   "id": "6a9e0ef8",
   "metadata": {},
   "outputs": [],
   "source": [
    "secretKey = secretKey + \"\".join(sorted(set(alphabet)-set(secretKey)))"
   ]
  },
  {
   "cell_type": "code",
   "execution_count": 13,
   "id": "bd5dede8",
   "metadata": {},
   "outputs": [
    {
     "data": {
      "text/plain": [
       "False"
      ]
     },
     "execution_count": 13,
     "metadata": {},
     "output_type": "execute_result"
    }
   ],
   "source": [
    "secretKey = \"fgeue\".upper()\n",
    "string  = input()\n",
    "alphabet = \"ABCDEFGHIJKLMNOPQRSTUVWXYZ\"\n",
    "secretKey = secretKey + \"\".join(sorted(set(alphabet)-set(secretKey)))\n",
    "output = \"\"\n",
    "for i in string:\n",
    "    islower = i.islower()\n",
    "    m = secretKey[alphabet.find(i.upper())]\n",
    "    if islower:\n",
    "        m = m.lower()\n",
    "    output += m\n",
    "print(output)"
   ]
  },
  {
   "cell_type": "code",
   "execution_count": 29,
   "id": "3c70d675",
   "metadata": {},
   "outputs": [],
   "source": [
    "import numpy as np"
   ]
  },
  {
   "cell_type": "code",
   "execution_count": 30,
   "id": "86643c2d",
   "metadata": {},
   "outputs": [
    {
     "data": {
      "text/plain": [
       "2"
      ]
     },
     "execution_count": 30,
     "metadata": {},
     "output_type": "execute_result"
    }
   ],
   "source": [
    "a = np.array([1,2,3,4,5])\n",
    "(a>3).astype(int).sum()"
   ]
  },
  {
   "cell_type": "code",
   "execution_count": 42,
   "id": "f3a1906d",
   "metadata": {},
   "outputs": [
    {
     "name": "stdout",
     "output_type": "stream",
     "text": [
      "0 0 1\n",
      "0 1 0\n",
      "1 0 1\n",
      "1 1 1\n",
      "2 1 2\n",
      "3 2 3\n",
      "5 3 5\n",
      "8 5 8\n",
      "21\n"
     ]
    }
   ],
   "source": [
    "def produce(age):\n",
    "    if age>=3:\n",
    "        return [1]\n",
    "    return []\n",
    "        \n",
    "\n",
    "month = 8\n",
    "rabbits = [0]\n",
    "for i in range(month):\n",
    "    number = len(rabbits)\n",
    "    for x in range(number):\n",
    "        rabbits[x] += 1\n",
    "        rabbits += produce(rabbits[x])\n",
    "    aa = np.array(rabbits)\n",
    "    print((aa>=3).astype(int).sum(), (aa==2).astype(int).sum(), (aa==1).astype(int).sum())\n",
    "print(len(rabbits))\n"
   ]
  },
  {
   "cell_type": "code",
   "execution_count": 45,
   "id": "27ed2af2",
   "metadata": {},
   "outputs": [
    {
     "name": "stdout",
     "output_type": "stream",
     "text": [
      "0 1 0\n",
      "1 0 1\n",
      "1 1 1\n",
      "2 1 2\n",
      "3 2 3\n",
      "5 3 5\n",
      "8 5 8\n",
      "21\n"
     ]
    }
   ],
   "source": [
    "m = 8\n",
    "k3 = 0\n",
    "k2 = 0\n",
    "k1 = 1\n",
    "for i in range(m-1):\n",
    "#     k3a = k3\n",
    "    \n",
    "    k3 = k3 + k2\n",
    "#     print(k3)\n",
    "    k2 = k1\n",
    "#     print(k2)\n",
    "    k1 = k3\n",
    "    print(k3,k2,k1)\n",
    "print(k1+k2+k3)"
   ]
  },
  {
   "cell_type": "code",
   "execution_count": 46,
   "id": "0a09214b",
   "metadata": {},
   "outputs": [
    {
     "data": {
      "text/plain": [
       "0.5"
      ]
     },
     "execution_count": 46,
     "metadata": {},
     "output_type": "execute_result"
    }
   ],
   "source": [
    "a = 1\n",
    "a /= 2\n",
    "a"
   ]
  }
 ],
 "metadata": {
  "kernelspec": {
   "display_name": "Python 3",
   "language": "python",
   "name": "python3"
  },
  "language_info": {
   "codemirror_mode": {
    "name": "ipython",
    "version": 3
   },
   "file_extension": ".py",
   "mimetype": "text/x-python",
   "name": "python",
   "nbconvert_exporter": "python",
   "pygments_lexer": "ipython3",
   "version": "3.7.10"
  }
 },
 "nbformat": 4,
 "nbformat_minor": 5
}
